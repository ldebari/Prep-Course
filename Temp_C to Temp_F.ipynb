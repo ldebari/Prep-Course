{
  "nbformat": 4,
  "nbformat_minor": 0,
  "metadata": {
    "colab": {
      "name": "Untitled0.ipynb",
      "provenance": [],
      "authorship_tag": "ABX9TyPoeUEuiPL/EmyozL21TExh",
      "include_colab_link": true
    },
    "kernelspec": {
      "name": "python3",
      "display_name": "Python 3"
    },
    "language_info": {
      "name": "python"
    }
  },
  "cells": [
    {
      "cell_type": "markdown",
      "metadata": {
        "id": "view-in-github",
        "colab_type": "text"
      },
      "source": [
        "<a href=\"https://colab.research.google.com/github/ldebari/Prep-Course/blob/main/Temp_C%20to%20Temp_F.ipynb\" target=\"_parent\"><img src=\"https://colab.research.google.com/assets/colab-badge.svg\" alt=\"Open In Colab\"/></a>"
      ]
    },
    {
      "cell_type": "code",
      "execution_count": 11,
      "metadata": {
        "id": "sqRJpIro87cn"
      },
      "outputs": [],
      "source": [
        "import pandas as pd;\n",
        "import seaborn as sns;\n",
        "import matplotlib.pyplot as plt;\n",
        "import tensorflow as tf;"
      ]
    },
    {
      "cell_type": "code",
      "source": [
        "print (\"Leyendo Datos\");\n",
        "temperatura= pd.read_csv(\"celsius_a_fahrenheit.csv\")\n",
        "sns.scatterplot(temperatura['Celsius'], temperatura['Fahrenheit'])\n",
        "plt.show()"
      ],
      "metadata": {
        "colab": {
          "base_uri": "https://localhost:8080/",
          "height": 351
        },
        "id": "5rXH_iEcA_4D",
        "outputId": "c63de48e-cbbe-48f0-89ae-0a4b7387f83e"
      },
      "execution_count": 12,
      "outputs": [
        {
          "output_type": "stream",
          "name": "stdout",
          "text": [
            "Leyendo Datos\n"
          ]
        },
        {
          "output_type": "stream",
          "name": "stderr",
          "text": [
            "/usr/local/lib/python3.7/dist-packages/seaborn/_decorators.py:43: FutureWarning: Pass the following variables as keyword args: x, y. From version 0.12, the only valid positional argument will be `data`, and passing other arguments without an explicit keyword will result in an error or misinterpretation.\n",
            "  FutureWarning\n"
          ]
        },
        {
          "output_type": "display_data",
          "data": {
            "text/plain": [
              "<Figure size 432x288 with 1 Axes>"
            ],
            "image/png": "[encoded data removed]"
          },
          "metadata": {
            "needs_background": "light"
          }
        }
      ]
    },
    {
      "cell_type": "code",
      "source": [
        "x=temperatura['Celsius']\n",
        "y=temperatura['Fahrenheit']"
      ],
      "metadata": {
        "id": "rvmWDpuyX_My"
      },
      "execution_count": 21,
      "outputs": []
    },
    {
      "cell_type": "code",
      "source": [
        "print (\"Creando el modelo\")\n",
        "model = tf.keras.Sequential()\n",
        "model.add(tf.keras.layers.Dense(units=1, input_shape=[1]))"
      ],
      "metadata": {
        "colab": {
          "base_uri": "https://localhost:8080/"
        },
        "id": "GTmvZjlbBl0d",
        "outputId": "75936c61-a49c-4aff-c70c-4ea39a8746bf"
      },
      "execution_count": 22,
      "outputs": [
        {
          "output_type": "stream",
          "name": "stdout",
          "text": [
            "Creando el modelo\n"
          ]
        }
      ]
    },
    {
      "cell_type": "code",
      "source": [
        "print (\"Compilando el modelo\")\n",
        "model.compile(optimizer=tf.keras.optimizers.Adam(1), loss='mean_squared_error')"
      ],
      "metadata": {
        "colab": {
          "base_uri": "https://localhost:8080/"
        },
        "id": "9-R1f9jlVrIv",
        "outputId": "390a255d-1c14-42d2-a645-5a745fdfbec1"
      },
      "execution_count": 23,
      "outputs": [
        {
          "output_type": "stream",
          "name": "stdout",
          "text": [
            "Compilando el modelo\n"
          ]
        }
      ]
    },
    {
      "cell_type": "code",
      "source": [
        "\n",
        "print (\"Entrenando el modelo\")\n",
        "epochs = model.fit(x, y, epochs=100 )"
      ],
      "metadata": {
        "colab": {
          "base_uri": "https://localhost:8080/"
        },
        "id": "xfox9nUrXTN-",
        "outputId": "4035aaa1-0a20-454b-ce4a-02ff8d8a4807"
      },
      "execution_count": 24,
      "outputs": [
        {
          "output_type": "stream",
          "name": "stdout",
          "text": [
            "Entrenando el modelo\n",
            "Epoch 1/100\n",
            "1/1 [==============================] - 0s 498ms/step - loss: 1142.2925\n",
            "Epoch 2/100\n",
            "1/1 [==============================] - 0s 8ms/step - loss: 1081.8470\n",
            "Epoch 3/100\n",
            "1/1 [==============================] - 0s 5ms/step - loss: 996.0782\n",
            "Epoch 4/100\n",
            "1/1 [==============================] - 0s 5ms/step - loss: 837.7670\n",
            "Epoch 5/100\n",
            "1/1 [==============================] - 0s 6ms/step - loss: 819.0818\n",
            "Epoch 6/100\n",
            "1/1 [==============================] - 0s 6ms/step - loss: 803.5707\n",
            "Epoch 7/100\n",
            "1/1 [==============================] - 0s 6ms/step - loss: 709.6247\n",
            "Epoch 8/100\n",
            "1/1 [==============================] - 0s 5ms/step - loss: 622.9435\n",
            "Epoch 9/100\n",
            "1/1 [==============================] - 0s 5ms/step - loss: 594.4677\n",
            "Epoch 10/100\n",
            "1/1 [==============================] - 0s 6ms/step - loss: 575.4830\n",
            "Epoch 11/100\n",
            "1/1 [==============================] - 0s 5ms/step - loss: 519.1399\n",
            "Epoch 12/100\n",
            "1/1 [==============================] - 0s 5ms/step - loss: 450.4830\n",
            "Epoch 13/100\n",
            "1/1 [==============================] - 0s 5ms/step - loss: 409.2540\n",
            "Epoch 14/100\n",
            "1/1 [==============================] - 0s 5ms/step - loss: 391.0268\n",
            "Epoch 15/100\n",
            "1/1 [==============================] - 0s 5ms/step - loss: 362.0544\n",
            "Epoch 16/100\n",
            "1/1 [==============================] - 0s 5ms/step - loss: 314.6528\n",
            "Epoch 17/100\n",
            "1/1 [==============================] - 0s 6ms/step - loss: 272.1129\n",
            "Epoch 18/100\n",
            "1/1 [==============================] - 0s 6ms/step - loss: 249.4998\n",
            "Epoch 19/100\n",
            "1/1 [==============================] - 0s 6ms/step - loss: 233.7073\n",
            "Epoch 20/100\n",
            "1/1 [==============================] - 0s 6ms/step - loss: 207.0902\n",
            "Epoch 21/100\n",
            "1/1 [==============================] - 0s 6ms/step - loss: 173.8808\n",
            "Epoch 22/100\n",
            "1/1 [==============================] - 0s 6ms/step - loss: 149.8331\n",
            "Epoch 23/100\n",
            "1/1 [==============================] - 0s 6ms/step - loss: 137.4706\n",
            "Epoch 24/100\n",
            "1/1 [==============================] - 0s 6ms/step - loss: 124.3442\n",
            "Epoch 25/100\n",
            "1/1 [==============================] - 0s 6ms/step - loss: 103.8618\n",
            "Epoch 26/100\n",
            "1/1 [==============================] - 0s 6ms/step - loss: 84.0062\n",
            "Epoch 27/100\n",
            "1/1 [==============================] - 0s 6ms/step - loss: 72.8467\n",
            "Epoch 28/100\n",
            "1/1 [==============================] - 0s 6ms/step - loss: 66.2352\n",
            "Epoch 29/100\n",
            "1/1 [==============================] - 0s 6ms/step - loss: 55.8883\n",
            "Epoch 30/100\n",
            "1/1 [==============================] - 0s 6ms/step - loss: 42.7118\n",
            "Epoch 31/100\n",
            "1/1 [==============================] - 0s 6ms/step - loss: 33.7580\n",
            "Epoch 32/100\n",
            "1/1 [==============================] - 0s 6ms/step - loss: 30.1065\n",
            "Epoch 33/100\n",
            "1/1 [==============================] - 0s 6ms/step - loss: 25.9229\n",
            "Epoch 34/100\n",
            "1/1 [==============================] - 0s 6ms/step - loss: 18.7274\n",
            "Epoch 35/100\n",
            "1/1 [==============================] - 0s 7ms/step - loss: 12.7187\n",
            "Epoch 36/100\n",
            "1/1 [==============================] - 0s 6ms/step - loss: 10.7692\n",
            "Epoch 37/100\n",
            "1/1 [==============================] - 0s 7ms/step - loss: 9.7848\n",
            "Epoch 38/100\n",
            "1/1 [==============================] - 0s 13ms/step - loss: 6.6251\n",
            "Epoch 39/100\n",
            "1/1 [==============================] - 0s 7ms/step - loss: 3.2357\n",
            "Epoch 40/100\n",
            "1/1 [==============================] - 0s 7ms/step - loss: 2.4470\n",
            "Epoch 41/100\n",
            "1/1 [==============================] - 0s 6ms/step - loss: 2.9123\n",
            "Epoch 42/100\n",
            "1/1 [==============================] - 0s 6ms/step - loss: 1.9629\n",
            "Epoch 43/100\n",
            "1/1 [==============================] - 0s 6ms/step - loss: 0.3394\n",
            "Epoch 44/100\n",
            "1/1 [==============================] - 0s 6ms/step - loss: 0.2655\n",
            "Epoch 45/100\n",
            "1/1 [==============================] - 0s 6ms/step - loss: 1.2168\n",
            "Epoch 46/100\n",
            "1/1 [==============================] - 0s 6ms/step - loss: 1.2094\n",
            "Epoch 47/100\n",
            "1/1 [==============================] - 0s 6ms/step - loss: 0.5180\n",
            "Epoch 48/100\n",
            "1/1 [==============================] - 0s 6ms/step - loss: 0.7590\n",
            "Epoch 49/100\n",
            "1/1 [==============================] - 0s 6ms/step - loss: 1.6844\n",
            "Epoch 50/100\n",
            "1/1 [==============================] - 0s 6ms/step - loss: 1.8903\n",
            "Epoch 51/100\n",
            "1/1 [==============================] - 0s 6ms/step - loss: 1.5623\n",
            "Epoch 52/100\n",
            "1/1 [==============================] - 0s 6ms/step - loss: 1.8425\n",
            "Epoch 53/100\n",
            "1/1 [==============================] - 0s 6ms/step - loss: 2.5083\n",
            "Epoch 54/100\n",
            "1/1 [==============================] - 0s 6ms/step - loss: 2.5961\n",
            "Epoch 55/100\n",
            "1/1 [==============================] - 0s 7ms/step - loss: 2.3454\n",
            "Epoch 56/100\n",
            "1/1 [==============================] - 0s 6ms/step - loss: 2.5347\n",
            "Epoch 57/100\n",
            "1/1 [==============================] - 0s 6ms/step - loss: 2.8850\n",
            "Epoch 58/100\n",
            "1/1 [==============================] - 0s 6ms/step - loss: 2.7753\n",
            "Epoch 59/100\n",
            "1/1 [==============================] - 0s 6ms/step - loss: 2.5183\n",
            "Epoch 60/100\n",
            "1/1 [==============================] - 0s 7ms/step - loss: 2.5940\n",
            "Epoch 61/100\n",
            "1/1 [==============================] - 0s 6ms/step - loss: 2.6749\n",
            "Epoch 62/100\n",
            "1/1 [==============================] - 0s 6ms/step - loss: 2.4221\n",
            "Epoch 63/100\n",
            "1/1 [==============================] - 0s 6ms/step - loss: 2.1780\n",
            "Epoch 64/100\n",
            "1/1 [==============================] - 0s 6ms/step - loss: 2.1680\n",
            "Epoch 65/100\n",
            "1/1 [==============================] - 0s 6ms/step - loss: 2.0699\n",
            "Epoch 66/100\n",
            "1/1 [==============================] - 0s 6ms/step - loss: 1.7751\n",
            "Epoch 67/100\n",
            "1/1 [==============================] - 0s 6ms/step - loss: 1.5855\n",
            "Epoch 68/100\n",
            "1/1 [==============================] - 0s 6ms/step - loss: 1.5259\n",
            "Epoch 69/100\n",
            "1/1 [==============================] - 0s 6ms/step - loss: 1.3457\n",
            "Epoch 70/100\n",
            "1/1 [==============================] - 0s 6ms/step - loss: 1.0985\n",
            "Epoch 71/100\n",
            "1/1 [==============================] - 0s 6ms/step - loss: 0.9827\n",
            "Epoch 72/100\n",
            "1/1 [==============================] - 0s 6ms/step - loss: 0.8999\n",
            "Epoch 73/100\n",
            "1/1 [==============================] - 0s 6ms/step - loss: 0.7192\n",
            "Epoch 74/100\n",
            "1/1 [==============================] - 0s 6ms/step - loss: 0.5666\n",
            "Epoch 75/100\n",
            "1/1 [==============================] - 0s 7ms/step - loss: 0.5109\n",
            "Epoch 76/100\n",
            "1/1 [==============================] - 0s 6ms/step - loss: 0.4249\n",
            "Epoch 77/100\n",
            "1/1 [==============================] - 0s 6ms/step - loss: 0.2970\n",
            "Epoch 78/100\n",
            "1/1 [==============================] - 0s 6ms/step - loss: 0.2363\n",
            "Epoch 79/100\n",
            "1/1 [==============================] - 0s 6ms/step - loss: 0.2105\n",
            "Epoch 80/100\n",
            "1/1 [==============================] - 0s 6ms/step - loss: 0.1403\n",
            "Epoch 81/100\n",
            "1/1 [==============================] - 0s 8ms/step - loss: 0.0824\n",
            "Epoch 82/100\n",
            "1/1 [==============================] - 0s 7ms/step - loss: 0.0772\n",
            "Epoch 83/100\n",
            "1/1 [==============================] - 0s 6ms/step - loss: 0.0584\n",
            "Epoch 84/100\n",
            "1/1 [==============================] - 0s 6ms/step - loss: 0.0192\n",
            "Epoch 85/100\n",
            "1/1 [==============================] - 0s 6ms/step - loss: 0.0150\n",
            "Epoch 86/100\n",
            "1/1 [==============================] - 0s 6ms/step - loss: 0.0240\n",
            "Epoch 87/100\n",
            "1/1 [==============================] - 0s 6ms/step - loss: 0.0083\n",
            "Epoch 88/100\n",
            "1/1 [==============================] - 0s 6ms/step - loss: 0.0019\n",
            "Epoch 89/100\n",
            "1/1 [==============================] - 0s 6ms/step - loss: 0.0177\n",
            "Epoch 90/100\n",
            "1/1 [==============================] - 0s 6ms/step - loss: 0.0193\n",
            "Epoch 91/100\n",
            "1/1 [==============================] - 0s 7ms/step - loss: 0.0132\n",
            "Epoch 92/100\n",
            "1/1 [==============================] - 0s 7ms/step - loss: 0.0247\n",
            "Epoch 93/100\n",
            "1/1 [==============================] - 0s 7ms/step - loss: 0.0340\n",
            "Epoch 94/100\n",
            "1/1 [==============================] - 0s 7ms/step - loss: 0.0299\n",
            "Epoch 95/100\n",
            "1/1 [==============================] - 0s 6ms/step - loss: 0.0342\n",
            "Epoch 96/100\n",
            "1/1 [==============================] - 0s 6ms/step - loss: 0.0435\n",
            "Epoch 97/100\n",
            "1/1 [==============================] - 0s 6ms/step - loss: 0.0413\n",
            "Epoch 98/100\n",
            "1/1 [==============================] - 0s 6ms/step - loss: 0.0399\n",
            "Epoch 99/100\n",
            "1/1 [==============================] - 0s 13ms/step - loss: 0.0454\n",
            "Epoch 100/100\n",
            "1/1 [==============================] - 0s 6ms/step - loss: 0.0442\n"
          ]
        }
      ]
    },
    {
      "cell_type": "code",
      "source": [
        "print (\"Evaluando el modelo entrenado\")\n",
        "print (\"Keys:\")\n",
        "print(epochs.history.keys())\n",
        "\t\n",
        "\n",
        "plt.plot(epochs.history['loss'])\n",
        "plt.title('Progreso de Pérdida durante Entrenamiento del Modelo')\n",
        "plt.xlabel('Epoch')\n",
        "plt.ylabel('Training Loss')\n",
        "plt.legend('Training Loss')\n",
        "plt.show()"
      ],
      "metadata": {
        "colab": {
          "base_uri": "https://localhost:8080/",
          "height": 347
        },
        "id": "ptCaWAoXZUSv",
        "outputId": "64263290-ea91-4b47-b5fe-780d95ce003b"
      },
      "execution_count": 25,
      "outputs": [
        {
          "output_type": "stream",
          "name": "stdout",
          "text": [
            "Evaluando el modelo entrenado\n",
            "Keys:\n",
            "dict_keys(['loss'])\n"
          ]
        },
        {
          "output_type": "display_data",
          "data": {
            "text/plain": [
              "<Figure size 432x288 with 1 Axes>"
            ],
            "image/png": "[encoded data removed]"
          },
          "metadata": {
            "needs_background": "light"
          }
        }
      ]
    },
    {
      "cell_type": "code",
      "source": [
        "Temp_C=0\n",
        "Temp_F= model.predict ([Temp_C])\n",
        "print (str (Temp_C) + \"C° son: \" + str (Temp_F))"
      ],
      "metadata": {
        "colab": {
          "base_uri": "https://localhost:8080/"
        },
        "id": "erHlLETWa9Pz",
        "outputId": "8a1ea522-1526-4ed2-851e-717298dbcadd"
      },
      "execution_count": 28,
      "outputs": [
        {
          "output_type": "stream",
          "name": "stdout",
          "text": [
            "0C° son: [[31.800451]]\n"
          ]
        }
      ]
    }
  ]
}